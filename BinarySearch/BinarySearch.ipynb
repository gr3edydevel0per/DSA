{
 "cells": [
  {
   "cell_type": "markdown",
   "metadata": {},
   "source": [
    "<center><h1>Binary Search</h1></center>"
   ]
  },
  {
   "cell_type": "code",
   "execution_count": 3,
   "metadata": {},
   "outputs": [
    {
     "ename": "KeyboardInterrupt",
     "evalue": "",
     "output_type": "error",
     "traceback": [
      "\u001b[1;31m---------------------------------------------------------------------------\u001b[0m",
      "\u001b[1;31mKeyboardInterrupt\u001b[0m                         Traceback (most recent call last)",
      "\u001b[1;32me:\\Github\\DSA\\BinarySearch\\BinarySearch.ipynb Cell 2\u001b[0m in \u001b[0;36m<cell line: 13>\u001b[1;34m()\u001b[0m\n\u001b[0;32m     <a href='vscode-notebook-cell:/e%3A/Github/DSA/BinarySearch/BinarySearch.ipynb#W1sZmlsZQ%3D%3D?line=9'>10</a>\u001b[0m           \u001b[39mreturn\u001b[39;00m mid\n\u001b[0;32m     <a href='vscode-notebook-cell:/e%3A/Github/DSA/BinarySearch/BinarySearch.ipynb#W1sZmlsZQ%3D%3D?line=11'>12</a>\u001b[0m arr \u001b[39m=\u001b[39m[\u001b[39m10\u001b[39m,\u001b[39m23\u001b[39m,\u001b[39m35\u001b[39m,\u001b[39m546\u001b[39m,\u001b[39m567\u001b[39m,\u001b[39m67\u001b[39m,\u001b[39m822\u001b[39m,\u001b[39m323\u001b[39m,\u001b[39m27\u001b[39m]\n\u001b[1;32m---> <a href='vscode-notebook-cell:/e%3A/Github/DSA/BinarySearch/BinarySearch.ipynb#W1sZmlsZQ%3D%3D?line=12'>13</a>\u001b[0m BinarySearch(arr,\u001b[39m546\u001b[39;49m,\u001b[39m0\u001b[39;49m,\u001b[39mlen\u001b[39;49m(arr)\u001b[39m-\u001b[39;49m\u001b[39m1\u001b[39;49m)\n",
      "\u001b[1;32me:\\Github\\DSA\\BinarySearch\\BinarySearch.ipynb Cell 2\u001b[0m in \u001b[0;36mBinarySearch\u001b[1;34m(arr, target, low, high)\u001b[0m\n\u001b[0;32m      <a href='vscode-notebook-cell:/e%3A/Github/DSA/BinarySearch/BinarySearch.ipynb#W1sZmlsZQ%3D%3D?line=3'>4</a>\u001b[0m mid \u001b[39m=\u001b[39m low \u001b[39m+\u001b[39m (high\u001b[39m+\u001b[39mlow)\u001b[39m/\u001b[39m\u001b[39m/\u001b[39m\u001b[39m2\u001b[39m\n\u001b[0;32m      <a href='vscode-notebook-cell:/e%3A/Github/DSA/BinarySearch/BinarySearch.ipynb#W1sZmlsZQ%3D%3D?line=4'>5</a>\u001b[0m \u001b[39mif\u001b[39;00m (target\u001b[39m<\u001b[39marr[mid]):\n\u001b[1;32m----> <a href='vscode-notebook-cell:/e%3A/Github/DSA/BinarySearch/BinarySearch.ipynb#W1sZmlsZQ%3D%3D?line=5'>6</a>\u001b[0m     end \u001b[39m=\u001b[39m mid\u001b[39m-\u001b[39m\u001b[39m1\u001b[39m\n\u001b[0;32m      <a href='vscode-notebook-cell:/e%3A/Github/DSA/BinarySearch/BinarySearch.ipynb#W1sZmlsZQ%3D%3D?line=6'>7</a>\u001b[0m \u001b[39melif\u001b[39;00m (target\u001b[39m>\u001b[39marr[mid]):\n\u001b[0;32m      <a href='vscode-notebook-cell:/e%3A/Github/DSA/BinarySearch/BinarySearch.ipynb#W1sZmlsZQ%3D%3D?line=7'>8</a>\u001b[0m     low\u001b[39m=\u001b[39m mid\u001b[39m+\u001b[39m\u001b[39m1\u001b[39m\n",
      "\u001b[1;31mKeyboardInterrupt\u001b[0m: "
     ]
    }
   ],
   "source": [
    "# Using While\n",
    "def BinarySearch(arr,target,low,high):\n",
    "    while low<=high:\n",
    "       mid = low + (high+low)//2\n",
    "       if (target<arr[mid]):\n",
    "           end = mid-1\n",
    "       elif (target>arr[mid]):\n",
    "           low= mid+1\n",
    "       else:\n",
    "          return mid\n",
    "\n",
    "arr =[10,23,35,546,567,67,822,323,27]\n",
    "BinarySearch(arr,546,0,len(arr)-1)\n",
    "        "
   ]
  },
  {
   "cell_type": "code",
   "execution_count": 45,
   "metadata": {},
   "outputs": [],
   "source": [
    "#Using Recursion\n",
    "def Binaryrecusrion(arr,target,low,high):\n",
    "    if high>=low:\n",
    "        mid = (low+high)//2\n",
    "        if arr[mid]==target:\n",
    "            return  mid\n",
    "        elif arr[mid]>target:\n",
    "            Binaryrecusrion(arr,target,low,mid-1)\n",
    "        else:\n",
    "            Binaryrecusrion(arr,target,mid+1,high)\n",
    "    else:\n",
    "            return -1"
   ]
  },
  {
   "cell_type": "code",
   "execution_count": 46,
   "metadata": {},
   "outputs": [
    {
     "name": "stdout",
     "output_type": "stream",
     "text": [
      "None\n"
     ]
    }
   ],
   "source": [
    "arr =[10,23,35,54,567,67,822,323,27]\n",
    "x=54\n",
    "result = Binaryrecusrion(arr,x,0,len(arr)-1)\n",
    "print(result)"
   ]
  },
  {
   "cell_type": "code",
   "execution_count": 28,
   "metadata": {},
   "outputs": [
    {
     "name": "stdout",
     "output_type": "stream",
     "text": [
      "Element is present at index 3\n"
     ]
    }
   ],
   "source": [
    "# Python 3 program for recursive binary search.\n",
    "# Modifications needed for the older Python 2 are found in comments.\n",
    "\n",
    "# Returns index of x in arr if present, else -1\n",
    "def binary_search(arr, low, high, x):\n",
    "\n",
    "\t# Check base case\n",
    "\tif high >= low:\n",
    "\n",
    "\t\tmid = (high + low) // 2\n",
    "\n",
    "\t\t# If element is present at the middle itself\n",
    "\t\tif arr[mid] == x:\n",
    "\t\t\treturn mid\n",
    "\n",
    "\t\t# If element is smaller than mid, then it can only\n",
    "\t\t# be present in left subarray\n",
    "\t\telif arr[mid] > x:\n",
    "\t\t\treturn binary_search(arr, low, mid - 1, x)\n",
    "\n",
    "\t\t# Else the element can only be present in right subarray\n",
    "\t\telse:\n",
    "\t\t\treturn binary_search(arr, mid + 1, high, x)\n",
    "\n",
    "\telse:\n",
    "\t\t# Element is not present in the array\n",
    "\t\treturn -1\n",
    "\n",
    "# Test array\n",
    "\n",
    "x = 546\n",
    "\n",
    "# Function call\n",
    "result = binary_search(arr, 0, len(arr)-1, x)\n",
    "\n",
    "if result != -1:\n",
    "\tprint(\"Element is present at index\", str(result))\n",
    "else:\n",
    "\tprint(\"Element is not present in array\")\n"
   ]
  },
  {
   "cell_type": "code",
   "execution_count": null,
   "metadata": {},
   "outputs": [],
   "source": []
  }
 ],
 "metadata": {
  "kernelspec": {
   "display_name": "Python 3.9.12 ('base')",
   "language": "python",
   "name": "python3"
  },
  "language_info": {
   "codemirror_mode": {
    "name": "ipython",
    "version": 3
   },
   "file_extension": ".py",
   "mimetype": "text/x-python",
   "name": "python",
   "nbconvert_exporter": "python",
   "pygments_lexer": "ipython3",
   "version": "3.9.12"
  },
  "orig_nbformat": 4,
  "vscode": {
   "interpreter": {
    "hash": "88279d2366fe020547cde40dd65aa0e3aa662a6ec1f3ca12d88834876c85e1a6"
   }
  }
 },
 "nbformat": 4,
 "nbformat_minor": 2
}
