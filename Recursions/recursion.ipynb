{
 "cells": [
  {
   "cell_type": "markdown",
   "metadata": {},
   "source": [
    " Recusrions"
   ]
  },
  {
   "cell_type": "markdown",
   "metadata": {},
   "source": [
    "def printnum(num)"
   ]
  }
 ],
 "metadata": {
  "language_info": {
   "name": "python"
  },
  "orig_nbformat": 4
 },
 "nbformat": 4,
 "nbformat_minor": 2
}
