{
 "cells": [
  {
   "attachments": {},
   "cell_type": "markdown",
   "metadata": {},
   "source": [
    "<h4> Given a String  : remove 'a' from the string then return the newString </h4>"
   ]
  },
  {
   "cell_type": "code",
   "execution_count": 13,
   "metadata": {},
   "outputs": [],
   "source": [
    "def removeA(mainStr,newStr,index):\n",
    "    if index == len(mainStr):\n",
    "        print(f\"{newStr}\")\n",
    "        return  \n",
    "    return  removeA(mainStr,newStr,index+1) if mainStr[index]=='a' else  removeA(mainStr,newStr+mainStr[index],index+1)\n"
   ]
  },
  {
   "cell_type": "code",
   "execution_count": 14,
   "metadata": {},
   "outputs": [
    {
     "name": "stdout",
     "output_type": "stream",
     "text": [
      "sv\n"
     ]
    }
   ],
   "source": [
    "removeA(\"saaav\",\"\",0)"
   ]
  },
  {
   "attachments": {},
   "cell_type": "markdown",
   "metadata": {},
   "source": [
    "<h4>-> Given a String  : remove a subSequence from the string then return the newString </h4>"
   ]
  },
  {
   "cell_type": "code",
   "execution_count": 40,
   "metadata": {},
   "outputs": [],
   "source": [
    "def removeApple(mainStr,newStr,index):\n",
    "    if index == len(mainStr):\n",
    "        print(f\"{newStr}\")\n",
    "        return  \n",
    "    return  removeApple(mainStr,newStr,index+len(\"apple\")) if mainStr[index::].startswith(\"apple\") else  removeApple(mainStr,newStr+mainStr[index],index+1)"
   ]
  },
  {
   "cell_type": "code",
   "execution_count": 42,
   "metadata": {},
   "outputs": [
    {
     "name": "stdout",
     "output_type": "stream",
     "text": [
      "ehfjrhad\n"
     ]
    }
   ],
   "source": [
    "removeApple(\"appleehfjrhapplead\",\"\",0)"
   ]
  },
  {
   "attachments": {},
   "cell_type": "markdown",
   "metadata": {},
   "source": [
    "<h4> Subset of a string </h4>"
   ]
  },
  {
   "cell_type": "code",
   "execution_count": 60,
   "metadata": {},
   "outputs": [
    {
     "data": {
      "text/plain": [
       "['abcd',\n",
       " 'abc',\n",
       " 'abd',\n",
       " 'ab',\n",
       " 'acd',\n",
       " 'ac',\n",
       " 'ad',\n",
       " 'a',\n",
       " 'bcd',\n",
       " 'bc',\n",
       " 'bd',\n",
       " 'b',\n",
       " 'cd',\n",
       " 'c',\n",
       " 'd',\n",
       " '']"
      ]
     },
     "execution_count": 60,
     "metadata": {},
     "output_type": "execute_result"
    }
   ],
   "source": [
    "# Return the subset of string in a list\n",
    "def powerSet(mainStr,newStr,index,powSet):\n",
    "    if index == len(mainStr):\n",
    "        return powSet.append(newStr)\n",
    "    powerSet(mainStr,newStr+mainStr[index],index+1,powSet)   # Take \n",
    "    powerSet(mainStr,newStr,index+1,powSet)                  # Not Take\n",
    "\n",
    "# main\n",
    "powSet = []\n",
    "string = \"abcd\"\n",
    "powerSet(string,\"\",0,powSet)\n",
    "powSet"
   ]
  },
  {
   "cell_type": "code",
   "execution_count": 61,
   "metadata": {},
   "outputs": [
    {
     "name": "stdout",
     "output_type": "stream",
     "text": [
      "abc, ab, ac, a, bc, b, c, , "
     ]
    }
   ],
   "source": [
    "# Print sub set of a given string\n",
    "def subSet(mainStr,newStr,index):\n",
    "    if index == len(mainStr):\n",
    "        print(newStr ,end=\", \")\n",
    "        return\n",
    "    subSet(mainStr,newStr+mainStr[index],index+1)   # Take \n",
    "    subSet(mainStr,newStr,index+1)                 # Not Take\n",
    "\n",
    "# main\n",
    "powSet = []\n",
    "string = \"abc\"\n",
    "subSet(string,\"\",0)\n"
   ]
  },
  {
   "attachments": {},
   "cell_type": "markdown",
   "metadata": {},
   "source": [
    "<h4> Print the ASCII value of a character</h4>"
   ]
  },
  {
   "cell_type": "code",
   "execution_count": 64,
   "metadata": {},
   "outputs": [
    {
     "name": "stdout",
     "output_type": "stream",
     "text": [
      "97\n"
     ]
    }
   ],
   "source": [
    "char = 'a'\n",
    "print(ord(char))   # ord is an inbuilt function that return the ASCII value of a given character\n",
    "\n",
    "# python doesnt support inbuilt type conversion like see 'a'+23 will give error\n"
   ]
  },
  {
   "cell_type": "code",
   "execution_count": 73,
   "metadata": {},
   "outputs": [
    {
     "name": "stdout",
     "output_type": "stream",
     "text": [
      "abc, ab, ab99, ac, a, a99, a98c, a98, a9899, bc, b, b99, c, , 99, 98c, 98, 9899, 97bc, 97b, 97b99, 97c, 97, 9799, 9798c, 9798, 979899, "
     ]
    }
   ],
   "source": [
    "# Print sub set of a given string with its ascii value\n",
    "def subSet(mainStr,newStr,index):\n",
    "    if index == len(mainStr):\n",
    "        print(newStr ,end=\", \")\n",
    "        return\n",
    "    subSet(mainStr,newStr+mainStr[index],index+1)   # Take \n",
    "    subSet(mainStr,newStr,index+1)                  # Not Take\n",
    "    subSet(mainStr,newStr+f\"{ord(mainStr[index])}\",index+1)     #ascii value\n",
    "# main\n",
    "string = \"abc\"\n",
    "subSet(string,\"\",0)"
   ]
  },
  {
   "attachments": {},
   "cell_type": "markdown",
   "metadata": {},
   "source": [
    "<h4>-> SubSet of  set</h4>"
   ]
  },
  {
   "cell_type": "code",
   "execution_count": 92,
   "metadata": {},
   "outputs": [
    {
     "data": {
      "text/plain": [
       "[[1, 2, 3], [1, 2], [1, 3], [1], [2, 3], [2], [3], []]"
      ]
     },
     "execution_count": 92,
     "metadata": {},
     "output_type": "execute_result"
    }
   ],
   "source": [
    "def numsubSet(mainSet,formedSet,NumsubSet,index):\n",
    "    if index == len(mainSet):\n",
    "        return NumsubSet.append(formedSet)\n",
    "    numsubSet(mainSet,formedSet+[mainSet[index]],NumsubSet,index+1)   # Take \n",
    "    numsubSet(mainSet,formedSet,NumsubSet,index+1)                          # Not Take  \n",
    "\n",
    "# main code\n",
    "\n",
    "NumSubSet =[]\n",
    "NumSet = [1,2,3]\n",
    "numsubSet(NumSet,[],NumSubSet,0)\n",
    "NumSubSet\n"
   ]
  },
  {
   "cell_type": "code",
   "execution_count": null,
   "metadata": {},
   "outputs": [],
   "source": [
    "# Iteration "
   ]
  }
 ],
 "metadata": {
  "kernelspec": {
   "display_name": "base",
   "language": "python",
   "name": "python3"
  },
  "language_info": {
   "codemirror_mode": {
    "name": "ipython",
    "version": 3
   },
   "file_extension": ".py",
   "mimetype": "text/x-python",
   "name": "python",
   "nbconvert_exporter": "python",
   "pygments_lexer": "ipython3",
   "version": "3.9.12"
  },
  "orig_nbformat": 4,
  "vscode": {
   "interpreter": {
    "hash": "88279d2366fe020547cde40dd65aa0e3aa662a6ec1f3ca12d88834876c85e1a6"
   }
  }
 },
 "nbformat": 4,
 "nbformat_minor": 2
}
